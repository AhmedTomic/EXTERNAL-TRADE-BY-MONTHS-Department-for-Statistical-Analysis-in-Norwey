{
 "cells": [
  {
   "cell_type": "markdown",
   "metadata": {},
   "source": [
    "# EXTERNAL TRADE BY MONTHS\n",
    "\n",
    "## Department for Statistical Analysis in Norwey \n",
    "\n",
    "### Tomic Ahmed"
   ]
  },
  {
   "cell_type": "code",
   "execution_count": 1,
   "metadata": {},
   "outputs": [
    {
     "name": "stdout",
     "output_type": "stream",
     "text": [
      "                                        commodity number imports/exports  \\\n",
      "0      06011000 (q1=kg, q2=number) Bulbs, tubers, tub...       1 Imports   \n",
      "1      06011000 (q1=kg, q2=number) Bulbs, tubers, tub...       1 Imports   \n",
      "2      06011000 (q1=kg, q2=number) Bulbs, tubers, tub...       1 Imports   \n",
      "3      06011000 (q1=kg, q2=number) Bulbs, tubers, tub...       1 Imports   \n",
      "4      06011000 (q1=kg, q2=number) Bulbs, tubers, tub...       1 Imports   \n",
      "5      06011000 (q1=kg, q2=number) Bulbs, tubers, tub...       1 Imports   \n",
      "6      06011000 (q1=kg, q2=number) Bulbs, tubers, tub...       1 Imports   \n",
      "7      06011000 (q1=kg, q2=number) Bulbs, tubers, tub...       1 Imports   \n",
      "8      06011000 (q1=kg, q2=number) Bulbs, tubers, tub...       1 Imports   \n",
      "9      06011000 (q1=kg, q2=number) Bulbs, tubers, tub...       1 Imports   \n",
      "10     06011000 (q1=kg, q2=number) Bulbs, tubers, tub...       1 Imports   \n",
      "11     06011000 (q1=kg, q2=number) Bulbs, tubers, tub...       1 Imports   \n",
      "12     06011000 (q1=kg, q2=number) Bulbs, tubers, tub...       1 Imports   \n",
      "13     06011000 (q1=kg, q2=number) Bulbs, tubers, tub...       1 Imports   \n",
      "14     06011000 (q1=kg, q2=number) Bulbs, tubers, tub...       1 Imports   \n",
      "15     06011000 (q1=kg, q2=number) Bulbs, tubers, tub...       1 Imports   \n",
      "16     06011000 (q1=kg, q2=number) Bulbs, tubers, tub...       1 Imports   \n",
      "17     06011000 (q1=kg, q2=number) Bulbs, tubers, tub...       1 Imports   \n",
      "18     06011000 (q1=kg, q2=number) Bulbs, tubers, tub...       1 Imports   \n",
      "19     06011000 (q1=kg, q2=number) Bulbs, tubers, tub...       1 Imports   \n",
      "20     06011000 (q1=kg, q2=number) Bulbs, tubers, tub...       1 Imports   \n",
      "21     06011000 (q1=kg, q2=number) Bulbs, tubers, tub...       1 Imports   \n",
      "22     06011000 (q1=kg, q2=number) Bulbs, tubers, tub...       1 Imports   \n",
      "23     06011000 (q1=kg, q2=number) Bulbs, tubers, tub...       1 Imports   \n",
      "24     06011000 (q1=kg, q2=number) Bulbs, tubers, tub...       1 Imports   \n",
      "25     06011000 (q1=kg, q2=number) Bulbs, tubers, tub...       1 Imports   \n",
      "26     06011000 (q1=kg, q2=number) Bulbs, tubers, tub...       1 Imports   \n",
      "27     06011000 (q1=kg, q2=number) Bulbs, tubers, tub...       1 Imports   \n",
      "28     06011000 (q1=kg, q2=number) Bulbs, tubers, tub...       1 Imports   \n",
      "29     06011000 (q1=kg, q2=number) Bulbs, tubers, tub...       1 Imports   \n",
      "...                                                  ...             ...   \n",
      "15843  07149000 (q1=kg, q2=none) Roots and tubers of ...       1 Imports   \n",
      "15844  07149000 (q1=kg, q2=none) Roots and tubers of ...       1 Imports   \n",
      "15845  07149000 (q1=kg, q2=none) Roots and tubers of ...       1 Imports   \n",
      "15846  07149000 (q1=kg, q2=none) Roots and tubers of ...       1 Imports   \n",
      "15847  07149000 (q1=kg, q2=none) Roots and tubers of ...       1 Imports   \n",
      "15848  07149000 (q1=kg, q2=none) Roots and tubers of ...       1 Imports   \n",
      "15849  07149000 (q1=kg, q2=none) Roots and tubers of ...       1 Imports   \n",
      "15850  07149000 (q1=kg, q2=none) Roots and tubers of ...       1 Imports   \n",
      "15851  07149000 (q1=kg, q2=none) Roots and tubers of ...       1 Imports   \n",
      "15852  07149000 (q1=kg, q2=none) Roots and tubers of ...       1 Imports   \n",
      "15853  07149000 (q1=kg, q2=none) Roots and tubers of ...       1 Imports   \n",
      "15854  07149000 (q1=kg, q2=none) Roots and tubers of ...       1 Imports   \n",
      "15855  07149000 (q1=kg, q2=none) Roots and tubers of ...       1 Imports   \n",
      "15856  07149000 (q1=kg, q2=none) Roots and tubers of ...       1 Imports   \n",
      "15857  07149000 (q1=kg, q2=none) Roots and tubers of ...       1 Imports   \n",
      "15858  07149000 (q1=kg, q2=none) Roots and tubers of ...       1 Imports   \n",
      "15859  07149000 (q1=kg, q2=none) Roots and tubers of ...       1 Imports   \n",
      "15860  07149000 (q1=kg, q2=none) Roots and tubers of ...       1 Imports   \n",
      "15861  07149000 (q1=kg, q2=none) Roots and tubers of ...       1 Imports   \n",
      "15862  07149000 (q1=kg, q2=none) Roots and tubers of ...       1 Imports   \n",
      "15863  07149000 (q1=kg, q2=none) Roots and tubers of ...       1 Imports   \n",
      "15864  07149000 (q1=kg, q2=none) Roots and tubers of ...       1 Imports   \n",
      "15865  07149000 (q1=kg, q2=none) Roots and tubers of ...       1 Imports   \n",
      "15866  07149000 (q1=kg, q2=none) Roots and tubers of ...       1 Imports   \n",
      "15867  07149000 (q1=kg, q2=none) Roots and tubers of ...       1 Imports   \n",
      "15868  07149000 (q1=kg, q2=none) Roots and tubers of ...       1 Imports   \n",
      "15869  07149000 (q1=kg, q2=none) Roots and tubers of ...       1 Imports   \n",
      "15870  07149000 (q1=kg, q2=none) Roots and tubers of ...       1 Imports   \n",
      "15871  07149000 (q1=kg, q2=none) Roots and tubers of ...       1 Imports   \n",
      "15872  07149000 (q1=kg, q2=none) Roots and tubers of ...       1 Imports   \n",
      "\n",
      "         month         contents  \\\n",
      "0      2017M07  Quantity 1 (Q1)   \n",
      "1      2017M07      Value (NOK)   \n",
      "2      2017M07  Quantity 2 (Q2)   \n",
      "3      2017M08  Quantity 1 (Q1)   \n",
      "4      2017M08      Value (NOK)   \n",
      "5      2017M08  Quantity 2 (Q2)   \n",
      "6      2017M09  Quantity 1 (Q1)   \n",
      "7      2017M09      Value (NOK)   \n",
      "8      2017M09  Quantity 2 (Q2)   \n",
      "9      2017M10  Quantity 1 (Q1)   \n",
      "10     2017M10      Value (NOK)   \n",
      "11     2017M10  Quantity 2 (Q2)   \n",
      "12     2017M11  Quantity 1 (Q1)   \n",
      "13     2017M11      Value (NOK)   \n",
      "14     2017M11  Quantity 2 (Q2)   \n",
      "15     2017M12  Quantity 1 (Q1)   \n",
      "16     2017M12      Value (NOK)   \n",
      "17     2017M12  Quantity 2 (Q2)   \n",
      "18     2018M01  Quantity 1 (Q1)   \n",
      "19     2018M01      Value (NOK)   \n",
      "20     2018M01  Quantity 2 (Q2)   \n",
      "21     2018M02  Quantity 1 (Q1)   \n",
      "22     2018M02      Value (NOK)   \n",
      "23     2018M02  Quantity 2 (Q2)   \n",
      "24     2018M03  Quantity 1 (Q1)   \n",
      "25     2018M03      Value (NOK)   \n",
      "26     2018M03  Quantity 2 (Q2)   \n",
      "27     2018M04  Quantity 1 (Q1)   \n",
      "28     2018M04      Value (NOK)   \n",
      "29     2018M04  Quantity 2 (Q2)   \n",
      "...        ...              ...   \n",
      "15843  2017M10  Quantity 1 (Q1)   \n",
      "15844  2017M10      Value (NOK)   \n",
      "15845  2017M10  Quantity 2 (Q2)   \n",
      "15846  2017M11  Quantity 1 (Q1)   \n",
      "15847  2017M11      Value (NOK)   \n",
      "15848  2017M11  Quantity 2 (Q2)   \n",
      "15849  2017M12  Quantity 1 (Q1)   \n",
      "15850  2017M12      Value (NOK)   \n",
      "15851  2017M12  Quantity 2 (Q2)   \n",
      "15852  2018M01  Quantity 1 (Q1)   \n",
      "15853  2018M01      Value (NOK)   \n",
      "15854  2018M01  Quantity 2 (Q2)   \n",
      "15855  2018M02  Quantity 1 (Q1)   \n",
      "15856  2018M02      Value (NOK)   \n",
      "15857  2018M02  Quantity 2 (Q2)   \n",
      "15858  2018M03  Quantity 1 (Q1)   \n",
      "15859  2018M03      Value (NOK)   \n",
      "15860  2018M03  Quantity 2 (Q2)   \n",
      "15861  2018M04  Quantity 1 (Q1)   \n",
      "15862  2018M04      Value (NOK)   \n",
      "15863  2018M04  Quantity 2 (Q2)   \n",
      "15864  2018M05  Quantity 1 (Q1)   \n",
      "15865  2018M05      Value (NOK)   \n",
      "15866  2018M05  Quantity 2 (Q2)   \n",
      "15867  2018M06  Quantity 1 (Q1)   \n",
      "15868  2018M06      Value (NOK)   \n",
      "15869  2018M06  Quantity 2 (Q2)   \n",
      "15870  2018M07  Quantity 1 (Q1)   \n",
      "15871  2018M07      Value (NOK)   \n",
      "15872  2018M07  Quantity 2 (Q2)   \n",
      "\n",
      "       External trade in goods, by commodity number, imports/exports, month and contents  \n",
      "0                                                  30745                                  \n",
      "1                                                1019597                                  \n",
      "2                                                 761164                                  \n",
      "3                                                 223071                                  \n",
      "4                                                9310147                                  \n",
      "5                                                9305429                                  \n",
      "6                                                 470489                                  \n",
      "7                                               15393294                                  \n",
      "8                                                9741744                                  \n",
      "9                                                 690234                                  \n",
      "10                                              19514058                                  \n",
      "11                                              20035391                                  \n",
      "12                                                607669                                  \n",
      "13                                              14340962                                  \n",
      "14                                              18523075                                  \n",
      "15                                                547156                                  \n",
      "16                                              15378044                                  \n",
      "17                                              17732316                                  \n",
      "18                                                466699                                  \n",
      "19                                              13281962                                  \n",
      "20                                              14829706                                  \n",
      "21                                                285522                                  \n",
      "22                                               8103623                                  \n",
      "23                                               8367356                                  \n",
      "24                                                 89786                                  \n",
      "25                                               3007205                                  \n",
      "26                                               2362475                                  \n",
      "27                                                 49961                                  \n",
      "28                                               1425866                                  \n",
      "29                                                515769                                  \n",
      "...                                                  ...                                  \n",
      "15843                                              18626                                  \n",
      "15844                                             288053                                  \n",
      "15845                                                  0                                  \n",
      "15846                                               8984                                  \n",
      "15847                                             195570                                  \n",
      "15848                                                  0                                  \n",
      "15849                                               6466                                  \n",
      "15850                                             124923                                  \n",
      "15851                                                  0                                  \n",
      "15852                                              21120                                  \n",
      "15853                                             378263                                  \n",
      "15854                                                  0                                  \n",
      "15855                                              12378                                  \n",
      "15856                                             230607                                  \n",
      "15857                                                  0                                  \n",
      "15858                                              18498                                  \n",
      "15859                                             466324                                  \n",
      "15860                                                  0                                  \n",
      "15861                                              14203                                  \n",
      "15862                                             340426                                  \n",
      "15863                                                  0                                  \n",
      "15864                                               8890                                  \n",
      "15865                                             187644                                  \n",
      "15866                                                  0                                  \n",
      "15867                                               9476                                  \n",
      "15868                                             196382                                  \n",
      "15869                                                  0                                  \n",
      "15870                                               7075                                  \n",
      "15871                                             126122                                  \n",
      "15872                                                  0                                  \n",
      "\n",
      "[15873 rows x 5 columns]\n"
     ]
    }
   ],
   "source": [
    "import sys\n",
    "import datetime as dt\n",
    "import matplotlib.pyplot as plt\n",
    "from matplotlib import style\n",
    "import numpy as np\n",
    "import warnings\n",
    "import pandas as pd\n",
    "import warnings\n",
    "\n",
    "\n",
    "df=pd.read_csv( '/home/ahmed/Desktop/populacija/Norweydata.csv',header=0)\n",
    "print(df)\n"
   ]
  },
  {
   "cell_type": "code",
   "execution_count": 2,
   "metadata": {
    "scrolled": true
   },
   "outputs": [
    {
     "data": {
      "text/html": [
       "<div>\n",
       "<style scoped>\n",
       "    .dataframe tbody tr th:only-of-type {\n",
       "        vertical-align: middle;\n",
       "    }\n",
       "\n",
       "    .dataframe tbody tr th {\n",
       "        vertical-align: top;\n",
       "    }\n",
       "\n",
       "    .dataframe thead th {\n",
       "        text-align: right;\n",
       "    }\n",
       "</style>\n",
       "<table border=\"1\" class=\"dataframe\">\n",
       "  <thead>\n",
       "    <tr style=\"text-align: right;\">\n",
       "      <th></th>\n",
       "      <th></th>\n",
       "      <th>External trade in goods, by commodity number, imports/exports, month and contents</th>\n",
       "    </tr>\n",
       "    <tr>\n",
       "      <th>month</th>\n",
       "      <th>contents</th>\n",
       "      <th></th>\n",
       "    </tr>\n",
       "  </thead>\n",
       "  <tbody>\n",
       "    <tr>\n",
       "      <th rowspan=\"61\" valign=\"top\">2017M07</th>\n",
       "      <th>Quantity 1 (Q1)</th>\n",
       "      <td>30745</td>\n",
       "    </tr>\n",
       "    <tr>\n",
       "      <th>Quantity 1 (Q1)</th>\n",
       "      <td>0</td>\n",
       "    </tr>\n",
       "    <tr>\n",
       "      <th>Quantity 1 (Q1)</th>\n",
       "      <td>0</td>\n",
       "    </tr>\n",
       "    <tr>\n",
       "      <th>Quantity 1 (Q1)</th>\n",
       "      <td>0</td>\n",
       "    </tr>\n",
       "    <tr>\n",
       "      <th>Quantity 1 (Q1)</th>\n",
       "      <td>0</td>\n",
       "    </tr>\n",
       "    <tr>\n",
       "      <th>Quantity 1 (Q1)</th>\n",
       "      <td>207870</td>\n",
       "    </tr>\n",
       "    <tr>\n",
       "      <th>Quantity 1 (Q1)</th>\n",
       "      <td>0</td>\n",
       "    </tr>\n",
       "    <tr>\n",
       "      <th>Quantity 1 (Q1)</th>\n",
       "      <td>0</td>\n",
       "    </tr>\n",
       "    <tr>\n",
       "      <th>Quantity 1 (Q1)</th>\n",
       "      <td>0</td>\n",
       "    </tr>\n",
       "    <tr>\n",
       "      <th>Quantity 1 (Q1)</th>\n",
       "      <td>0</td>\n",
       "    </tr>\n",
       "    <tr>\n",
       "      <th>Quantity 1 (Q1)</th>\n",
       "      <td>0</td>\n",
       "    </tr>\n",
       "    <tr>\n",
       "      <th>Quantity 1 (Q1)</th>\n",
       "      <td>0</td>\n",
       "    </tr>\n",
       "    <tr>\n",
       "      <th>Quantity 1 (Q1)</th>\n",
       "      <td>5041</td>\n",
       "    </tr>\n",
       "    <tr>\n",
       "      <th>Quantity 1 (Q1)</th>\n",
       "      <td>0</td>\n",
       "    </tr>\n",
       "    <tr>\n",
       "      <th>Quantity 1 (Q1)</th>\n",
       "      <td>0</td>\n",
       "    </tr>\n",
       "    <tr>\n",
       "      <th>Quantity 1 (Q1)</th>\n",
       "      <td>0</td>\n",
       "    </tr>\n",
       "    <tr>\n",
       "      <th>Quantity 1 (Q1)</th>\n",
       "      <td>1149</td>\n",
       "    </tr>\n",
       "    <tr>\n",
       "      <th>Quantity 1 (Q1)</th>\n",
       "      <td>709</td>\n",
       "    </tr>\n",
       "    <tr>\n",
       "      <th>Quantity 1 (Q1)</th>\n",
       "      <td>0</td>\n",
       "    </tr>\n",
       "    <tr>\n",
       "      <th>Quantity 1 (Q1)</th>\n",
       "      <td>0</td>\n",
       "    </tr>\n",
       "    <tr>\n",
       "      <th>Quantity 1 (Q1)</th>\n",
       "      <td>18494</td>\n",
       "    </tr>\n",
       "    <tr>\n",
       "      <th>Quantity 1 (Q1)</th>\n",
       "      <td>0</td>\n",
       "    </tr>\n",
       "    <tr>\n",
       "      <th>Quantity 1 (Q1)</th>\n",
       "      <td>0</td>\n",
       "    </tr>\n",
       "    <tr>\n",
       "      <th>Quantity 1 (Q1)</th>\n",
       "      <td>0</td>\n",
       "    </tr>\n",
       "    <tr>\n",
       "      <th>Quantity 1 (Q1)</th>\n",
       "      <td>0</td>\n",
       "    </tr>\n",
       "    <tr>\n",
       "      <th>Quantity 1 (Q1)</th>\n",
       "      <td>0</td>\n",
       "    </tr>\n",
       "    <tr>\n",
       "      <th>Quantity 1 (Q1)</th>\n",
       "      <td>0</td>\n",
       "    </tr>\n",
       "    <tr>\n",
       "      <th>Quantity 1 (Q1)</th>\n",
       "      <td>0</td>\n",
       "    </tr>\n",
       "    <tr>\n",
       "      <th>Quantity 1 (Q1)</th>\n",
       "      <td>0</td>\n",
       "    </tr>\n",
       "    <tr>\n",
       "      <th>Quantity 1 (Q1)</th>\n",
       "      <td>0</td>\n",
       "    </tr>\n",
       "    <tr>\n",
       "      <th>...</th>\n",
       "      <td>...</td>\n",
       "    </tr>\n",
       "    <tr>\n",
       "      <th>Quantity 1 (Q1)</th>\n",
       "      <td>0</td>\n",
       "    </tr>\n",
       "    <tr>\n",
       "      <th>Quantity 1 (Q1)</th>\n",
       "      <td>45292</td>\n",
       "    </tr>\n",
       "    <tr>\n",
       "      <th>Quantity 1 (Q1)</th>\n",
       "      <td>7138</td>\n",
       "    </tr>\n",
       "    <tr>\n",
       "      <th>Quantity 1 (Q1)</th>\n",
       "      <td>5760</td>\n",
       "    </tr>\n",
       "    <tr>\n",
       "      <th>Quantity 1 (Q1)</th>\n",
       "      <td>24714</td>\n",
       "    </tr>\n",
       "    <tr>\n",
       "      <th>Quantity 1 (Q1)</th>\n",
       "      <td>0</td>\n",
       "    </tr>\n",
       "    <tr>\n",
       "      <th>Quantity 1 (Q1)</th>\n",
       "      <td>2552</td>\n",
       "    </tr>\n",
       "    <tr>\n",
       "      <th>Quantity 1 (Q1)</th>\n",
       "      <td>18015</td>\n",
       "    </tr>\n",
       "    <tr>\n",
       "      <th>Quantity 1 (Q1)</th>\n",
       "      <td>0</td>\n",
       "    </tr>\n",
       "    <tr>\n",
       "      <th>Quantity 1 (Q1)</th>\n",
       "      <td>0</td>\n",
       "    </tr>\n",
       "    <tr>\n",
       "      <th>Quantity 1 (Q1)</th>\n",
       "      <td>50315</td>\n",
       "    </tr>\n",
       "    <tr>\n",
       "      <th>Quantity 1 (Q1)</th>\n",
       "      <td>0</td>\n",
       "    </tr>\n",
       "    <tr>\n",
       "      <th>Quantity 1 (Q1)</th>\n",
       "      <td>15271905</td>\n",
       "    </tr>\n",
       "    <tr>\n",
       "      <th>Quantity 1 (Q1)</th>\n",
       "      <td>0</td>\n",
       "    </tr>\n",
       "    <tr>\n",
       "      <th>Quantity 1 (Q1)</th>\n",
       "      <td>520</td>\n",
       "    </tr>\n",
       "    <tr>\n",
       "      <th>Quantity 1 (Q1)</th>\n",
       "      <td>91</td>\n",
       "    </tr>\n",
       "    <tr>\n",
       "      <th>Quantity 1 (Q1)</th>\n",
       "      <td>0</td>\n",
       "    </tr>\n",
       "    <tr>\n",
       "      <th>Quantity 1 (Q1)</th>\n",
       "      <td>0</td>\n",
       "    </tr>\n",
       "    <tr>\n",
       "      <th>Quantity 1 (Q1)</th>\n",
       "      <td>11334</td>\n",
       "    </tr>\n",
       "    <tr>\n",
       "      <th>Quantity 1 (Q1)</th>\n",
       "      <td>0</td>\n",
       "    </tr>\n",
       "    <tr>\n",
       "      <th>Quantity 1 (Q1)</th>\n",
       "      <td>0</td>\n",
       "    </tr>\n",
       "    <tr>\n",
       "      <th>Quantity 1 (Q1)</th>\n",
       "      <td>282156</td>\n",
       "    </tr>\n",
       "    <tr>\n",
       "      <th>Quantity 1 (Q1)</th>\n",
       "      <td>0</td>\n",
       "    </tr>\n",
       "    <tr>\n",
       "      <th>Quantity 1 (Q1)</th>\n",
       "      <td>0</td>\n",
       "    </tr>\n",
       "    <tr>\n",
       "      <th>Quantity 1 (Q1)</th>\n",
       "      <td>3150</td>\n",
       "    </tr>\n",
       "    <tr>\n",
       "      <th>Quantity 1 (Q1)</th>\n",
       "      <td>4296</td>\n",
       "    </tr>\n",
       "    <tr>\n",
       "      <th>Quantity 1 (Q1)</th>\n",
       "      <td>0</td>\n",
       "    </tr>\n",
       "    <tr>\n",
       "      <th>Quantity 1 (Q1)</th>\n",
       "      <td>0</td>\n",
       "    </tr>\n",
       "    <tr>\n",
       "      <th>Quantity 1 (Q1)</th>\n",
       "      <td>0</td>\n",
       "    </tr>\n",
       "    <tr>\n",
       "      <th>Quantity 1 (Q1)</th>\n",
       "      <td>3840</td>\n",
       "    </tr>\n",
       "  </tbody>\n",
       "</table>\n",
       "<p>407 rows × 1 columns</p>\n",
       "</div>"
      ],
      "text/plain": [
       "                         External trade in goods, by commodity number, imports/exports, month and contents\n",
       "month   contents                                                                                          \n",
       "2017M07 Quantity 1 (Q1)                                              30745                                \n",
       "        Quantity 1 (Q1)                                                  0                                \n",
       "        Quantity 1 (Q1)                                                  0                                \n",
       "        Quantity 1 (Q1)                                                  0                                \n",
       "        Quantity 1 (Q1)                                                  0                                \n",
       "        Quantity 1 (Q1)                                             207870                                \n",
       "        Quantity 1 (Q1)                                                  0                                \n",
       "        Quantity 1 (Q1)                                                  0                                \n",
       "        Quantity 1 (Q1)                                                  0                                \n",
       "        Quantity 1 (Q1)                                                  0                                \n",
       "        Quantity 1 (Q1)                                                  0                                \n",
       "        Quantity 1 (Q1)                                                  0                                \n",
       "        Quantity 1 (Q1)                                               5041                                \n",
       "        Quantity 1 (Q1)                                                  0                                \n",
       "        Quantity 1 (Q1)                                                  0                                \n",
       "        Quantity 1 (Q1)                                                  0                                \n",
       "        Quantity 1 (Q1)                                               1149                                \n",
       "        Quantity 1 (Q1)                                                709                                \n",
       "        Quantity 1 (Q1)                                                  0                                \n",
       "        Quantity 1 (Q1)                                                  0                                \n",
       "        Quantity 1 (Q1)                                              18494                                \n",
       "        Quantity 1 (Q1)                                                  0                                \n",
       "        Quantity 1 (Q1)                                                  0                                \n",
       "        Quantity 1 (Q1)                                                  0                                \n",
       "        Quantity 1 (Q1)                                                  0                                \n",
       "        Quantity 1 (Q1)                                                  0                                \n",
       "        Quantity 1 (Q1)                                                  0                                \n",
       "        Quantity 1 (Q1)                                                  0                                \n",
       "        Quantity 1 (Q1)                                                  0                                \n",
       "        Quantity 1 (Q1)                                                  0                                \n",
       "...                                                                    ...                                \n",
       "        Quantity 1 (Q1)                                                  0                                \n",
       "        Quantity 1 (Q1)                                              45292                                \n",
       "        Quantity 1 (Q1)                                               7138                                \n",
       "        Quantity 1 (Q1)                                               5760                                \n",
       "        Quantity 1 (Q1)                                              24714                                \n",
       "        Quantity 1 (Q1)                                                  0                                \n",
       "        Quantity 1 (Q1)                                               2552                                \n",
       "        Quantity 1 (Q1)                                              18015                                \n",
       "        Quantity 1 (Q1)                                                  0                                \n",
       "        Quantity 1 (Q1)                                                  0                                \n",
       "        Quantity 1 (Q1)                                              50315                                \n",
       "        Quantity 1 (Q1)                                                  0                                \n",
       "        Quantity 1 (Q1)                                           15271905                                \n",
       "        Quantity 1 (Q1)                                                  0                                \n",
       "        Quantity 1 (Q1)                                                520                                \n",
       "        Quantity 1 (Q1)                                                 91                                \n",
       "        Quantity 1 (Q1)                                                  0                                \n",
       "        Quantity 1 (Q1)                                                  0                                \n",
       "        Quantity 1 (Q1)                                              11334                                \n",
       "        Quantity 1 (Q1)                                                  0                                \n",
       "        Quantity 1 (Q1)                                                  0                                \n",
       "        Quantity 1 (Q1)                                             282156                                \n",
       "        Quantity 1 (Q1)                                                  0                                \n",
       "        Quantity 1 (Q1)                                                  0                                \n",
       "        Quantity 1 (Q1)                                               3150                                \n",
       "        Quantity 1 (Q1)                                               4296                                \n",
       "        Quantity 1 (Q1)                                                  0                                \n",
       "        Quantity 1 (Q1)                                                  0                                \n",
       "        Quantity 1 (Q1)                                                  0                                \n",
       "        Quantity 1 (Q1)                                               3840                                \n",
       "\n",
       "[407 rows x 1 columns]"
      ]
     },
     "execution_count": 2,
     "metadata": {},
     "output_type": "execute_result"
    }
   ],
   "source": [
    "\n",
    "df.set_index(['month','contents'],inplace=True)\n",
    "\n",
    "df.drop('commodity number',axis=1,inplace=True)\n",
    "df.drop('imports/exports',axis=1,inplace=True)\n",
    "df.sort_index(level= 0)\n",
    "df.head()\n",
    "df.loc['2017M07','Quantity 1 (Q1)',:]"
   ]
  },
  {
   "cell_type": "code",
   "execution_count": 3,
   "metadata": {},
   "outputs": [
    {
     "data": {
      "text/plain": [
       "External trade in goods, by commodity number, imports/exports, month and contents    41055658\n",
       "dtype: int64"
      ]
     },
     "execution_count": 3,
     "metadata": {},
     "output_type": "execute_result"
    }
   ],
   "source": [
    "a=df.loc['2017M07','Quantity 1 (Q1)', :].sum()\n",
    "a"
   ]
  },
  {
   "cell_type": "code",
   "execution_count": 4,
   "metadata": {},
   "outputs": [
    {
     "data": {
      "text/plain": [
       "External trade in goods, by commodity number, imports/exports, month and contents    26555041\n",
       "dtype: int64"
      ]
     },
     "execution_count": 4,
     "metadata": {},
     "output_type": "execute_result"
    }
   ],
   "source": [
    "b=df.loc['2017M08','Quantity 1 (Q1)', :].sum()\n",
    "b"
   ]
  },
  {
   "cell_type": "code",
   "execution_count": 5,
   "metadata": {
    "scrolled": true
   },
   "outputs": [
    {
     "data": {
      "text/plain": [
       "External trade in goods, by commodity number, imports/exports, month and contents    24301328\n",
       "dtype: int64"
      ]
     },
     "execution_count": 5,
     "metadata": {},
     "output_type": "execute_result"
    }
   ],
   "source": [
    "c=df.loc['2017M09','Quantity 1 (Q1)', :].sum()\n",
    "c"
   ]
  },
  {
   "cell_type": "code",
   "execution_count": 6,
   "metadata": {
    "scrolled": true
   },
   "outputs": [
    {
     "data": {
      "text/plain": [
       "External trade in goods, by commodity number, imports/exports, month and contents    32632746\n",
       "dtype: int64"
      ]
     },
     "execution_count": 6,
     "metadata": {},
     "output_type": "execute_result"
    }
   ],
   "source": [
    "d=df.loc['2017M10','Quantity 1 (Q1)', :].sum()\n",
    "d"
   ]
  },
  {
   "cell_type": "code",
   "execution_count": 7,
   "metadata": {
    "scrolled": true
   },
   "outputs": [
    {
     "data": {
      "text/plain": [
       "External trade in goods, by commodity number, imports/exports, month and contents    35091002\n",
       "dtype: int64"
      ]
     },
     "execution_count": 7,
     "metadata": {},
     "output_type": "execute_result"
    }
   ],
   "source": [
    "e=df.loc['2017M11','Quantity 1 (Q1)',:].sum()\n",
    "e"
   ]
  },
  {
   "cell_type": "code",
   "execution_count": 8,
   "metadata": {
    "scrolled": true
   },
   "outputs": [
    {
     "data": {
      "text/plain": [
       "External trade in goods, by commodity number, imports/exports, month and contents    34699587\n",
       "dtype: int64"
      ]
     },
     "execution_count": 8,
     "metadata": {},
     "output_type": "execute_result"
    }
   ],
   "source": [
    "f=df.loc['2017M12','Quantity 1 (Q1)',:].sum()\n",
    "f"
   ]
  },
  {
   "cell_type": "code",
   "execution_count": 9,
   "metadata": {
    "scrolled": true
   },
   "outputs": [
    {
     "data": {
      "text/plain": [
       "External trade in goods, by commodity number, imports/exports, month and contents    42375014\n",
       "dtype: int64"
      ]
     },
     "execution_count": 9,
     "metadata": {},
     "output_type": "execute_result"
    }
   ],
   "source": [
    "g=df.loc['2018M01','Quantity 1 (Q1)',:].sum()\n",
    "g"
   ]
  },
  {
   "cell_type": "code",
   "execution_count": 10,
   "metadata": {
    "scrolled": true
   },
   "outputs": [
    {
     "data": {
      "text/plain": [
       "External trade in goods, by commodity number, imports/exports, month and contents    30139632\n",
       "dtype: int64"
      ]
     },
     "execution_count": 10,
     "metadata": {},
     "output_type": "execute_result"
    }
   ],
   "source": [
    "h=df.loc['2018M02','Quantity 1 (Q1)', :].sum()\n",
    "h"
   ]
  },
  {
   "cell_type": "code",
   "execution_count": 11,
   "metadata": {
    "scrolled": true
   },
   "outputs": [
    {
     "data": {
      "text/plain": [
       "External trade in goods, by commodity number, imports/exports, month and contents    47504861\n",
       "dtype: int64"
      ]
     },
     "execution_count": 11,
     "metadata": {},
     "output_type": "execute_result"
    }
   ],
   "source": [
    "i=df.loc['2018M03','Quantity 1 (Q1)', :].sum()\n",
    "i"
   ]
  },
  {
   "cell_type": "code",
   "execution_count": 12,
   "metadata": {
    "scrolled": true
   },
   "outputs": [
    {
     "data": {
      "text/plain": [
       "External trade in goods, by commodity number, imports/exports, month and contents    52058007\n",
       "dtype: int64"
      ]
     },
     "execution_count": 12,
     "metadata": {},
     "output_type": "execute_result"
    }
   ],
   "source": [
    "j=df.loc['2018M04','Quantity 1 (Q1)', :].sum()\n",
    "j"
   ]
  },
  {
   "cell_type": "code",
   "execution_count": 13,
   "metadata": {
    "scrolled": true
   },
   "outputs": [
    {
     "data": {
      "text/plain": [
       "External trade in goods, by commodity number, imports/exports, month and contents    53043965\n",
       "dtype: int64"
      ]
     },
     "execution_count": 13,
     "metadata": {},
     "output_type": "execute_result"
    }
   ],
   "source": [
    "k=df.loc['2018M05','Quantity 1 (Q1)',:].sum()\n",
    "k"
   ]
  },
  {
   "cell_type": "code",
   "execution_count": 14,
   "metadata": {
    "scrolled": true
   },
   "outputs": [
    {
     "data": {
      "text/plain": [
       "External trade in goods, by commodity number, imports/exports, month and contents    43972796\n",
       "dtype: int64"
      ]
     },
     "execution_count": 14,
     "metadata": {},
     "output_type": "execute_result"
    }
   ],
   "source": [
    "l=df.loc['2018M06','Quantity 1 (Q1)', :].sum()\n",
    "l"
   ]
  },
  {
   "cell_type": "code",
   "execution_count": 15,
   "metadata": {
    "scrolled": true
   },
   "outputs": [
    {
     "data": {
      "text/plain": [
       "External trade in goods, by commodity number, imports/exports, month and contents    49815265\n",
       "dtype: int64"
      ]
     },
     "execution_count": 15,
     "metadata": {},
     "output_type": "execute_result"
    }
   ],
   "source": [
    "m=df.loc['2018M07','Quantity 1 (Q1)', :].sum()\n",
    "m"
   ]
  },
  {
   "cell_type": "code",
   "execution_count": 17,
   "metadata": {},
   "outputs": [
    {
     "data": {
      "image/png": "[encoded data removed]",
      "text/plain": [
       "<Figure size 1080x360 with 1 Axes>"
      ]
     },
     "metadata": {},
     "output_type": "display_data"
    }
   ],
   "source": [
    "import matplotlib.pyplot as plt\n",
    "import numpy as np\n",
    "from matplotlib import style\n",
    "\n",
    "style.use('ggplot')\n",
    "\n",
    "a=41055658\n",
    "b=26555041\n",
    "c=24301328\n",
    "d=32632746\n",
    "e=35091002\n",
    "f=34699587\n",
    "g=42375014\n",
    "h=30139632\n",
    "i=47504861\n",
    "j=52058007\n",
    "k=53043965\n",
    "l=43972796\n",
    "m=49815265      \n",
    "\n",
    "plt.figure(figsize=(15,5))\n",
    "\n",
    "quantity=[a,b,c,d,e,f,g,h,i,j,k,l,m,]\n",
    "labels =[('Jun 2017'),('Jul 2017'),('Aug 2017'),('Sep 2017'),('Oct 2017'),('Nov 2017'),('Dec 2017'),('Jan 2018'),\n",
    "        ('Feb 2018'),('Mar 2018'),('Apr 2018'),('May 2018'),('Jun 2018'),]\n",
    "\n",
    "plt.plot([41055658,26555041,24301328,32632746,35091002,34699587,42375014,\n",
    "            30139632,47504861,52058007,53043965,43972796,49815265], color='purple')\n",
    "\n",
    "plt.xticks(list(range(13)), labels,color='black', rotation=\"vertical\")\n",
    "\n",
    "plt.yticks(quantity, rotation=\"horizontal\",color='black')\n",
    "\n",
    "\n",
    "plt.xlabel('Months')\n",
    "plt.ylabel('Quantity',size='20')\n",
    "\n",
    "plt.title('External trade in goods\\n by months')\n",
    "\n",
    "plt.legend(['Trade by months'],\n",
    "           loc='upper left');\n",
    "plt.show()\n",
    "\n"
   ]
  }
 ],
 "metadata": {
  "kernelspec": {
   "display_name": "Python 3",
   "language": "python",
   "name": "python3"
  },
  "language_info": {
   "codemirror_mode": {
    "name": "ipython",
    "version": 3
   },
   "file_extension": ".py",
   "mimetype": "text/x-python",
   "name": "python",
   "nbconvert_exporter": "python",
   "pygments_lexer": "ipython3",
   "version": "3.6.5"
  }
 },
 "nbformat": 4,
 "nbformat_minor": 2
}
